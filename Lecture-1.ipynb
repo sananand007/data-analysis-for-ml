{
 "cells": [
  {
   "cell_type": "markdown",
   "metadata": {
    "slideshow": {
     "slide_type": "slide"
    }
   },
   "source": [
    "# Data science for Machine Learning\n",
    "## Topics from data science and data mining used in ML\n",
    "\n",
    "Mehrdad Yazdani <br>\n",
    "@crude2refined"
   ]
  },
  {
   "cell_type": "code",
   "execution_count": 1,
   "metadata": {
    "slideshow": {
     "slide_type": "skip"
    }
   },
   "outputs": [],
   "source": [
    "import pandas as pd\n",
    "import numpy as np\n",
    "\n",
    "import matplotlib.pyplot as plt\n",
    "import seaborn as sns\n",
    "\n",
    "\n",
    "from IPython.display import display, HTML, Image\n",
    "\n",
    "%matplotlib inline"
   ]
  },
  {
   "cell_type": "markdown",
   "metadata": {
    "slideshow": {
     "slide_type": "slide"
    }
   },
   "source": [
    "# Overview\n",
    "\n",
    "- What is machine learning? What are we going to cover in this class?\n",
    "\n",
    "\n",
    "- Linear binary classification models\n",
    "    - Naive Bayes classifier\n",
    "    - Logistic Regression\n",
    "  \n",
    "\n",
    "- Model evaluation and testing\n",
    "   - Training and test set set\n",
    "   - Cross validation \n",
    "   - Performance metrics"
   ]
  },
  {
   "cell_type": "markdown",
   "metadata": {
    "slideshow": {
     "slide_type": "slide"
    }
   },
   "source": [
    "# What is machine learning?\n",
    "\n",
    "- Algorithms that derive rules based on data\n",
    "- Closely related to statistics\n",
    "- Using a lot of linear algebra and optimization\n",
    "- Significant overlap between terms such as \"AI\" (as used in 2017), ML, data science, data mining, analytics\n",
    "- We expect data to be \"structured\" or made to be \"structured\"\n",
    "    - data should embedded in a vector space\n"
   ]
  },
  {
   "cell_type": "code",
   "execution_count": 2,
   "metadata": {
    "slideshow": {
     "slide_type": "slide"
    }
   },
   "outputs": [
    {
     "data": {
      "text/html": [
       "<img src=\"./imgs/Lecture-1/Data_Science_VD.png\">"
      ],
      "text/plain": [
       "<IPython.core.display.HTML object>"
      ]
     },
     "metadata": {},
     "output_type": "display_data"
    }
   ],
   "source": [
    "display(HTML('''<img src=\"./imgs/Lecture-1/Data_Science_VD.png\">'''))"
   ]
  },
  {
   "cell_type": "markdown",
   "metadata": {
    "slideshow": {
     "slide_type": "subslide"
    }
   },
   "source": [
    "# Intersection of different skills\n",
    "\n",
    "\n",
    "<img src=\"./imgs/Lecture-1/data-science-venn.jpg\">"
   ]
  },
  {
   "cell_type": "markdown",
   "metadata": {
    "slideshow": {
     "slide_type": "subslide"
    }
   },
   "source": [
    "# Intersection of different skills\n",
    "\n",
    "\n",
    "<img src=\"./imgs/Lecture-1/vd_overload.jpg\">"
   ]
  },
  {
   "cell_type": "markdown",
   "metadata": {
    "slideshow": {
     "slide_type": "subslide"
    }
   },
   "source": [
    "# Intersection of different skills\n",
    "\n",
    "\n",
    "<img src=\"./imgs/Lecture-1/VENN.png\">"
   ]
  },
  {
   "cell_type": "markdown",
   "metadata": {
    "slideshow": {
     "slide_type": "slide"
    }
   },
   "source": [
    "## Supervised vs. unsupervised learning\n",
    "\n",
    "- Supervised learning:\n",
    "    - Decision making\n",
    "    - Estimation, prediction\n",
    "    - Classification\n",
    "    - Outlier detection \n",
    "\n",
    "\n",
    "- Unsupervised learning:\n",
    "    - Summarization\n",
    "    - Compression\n",
    "    - Clustering\n",
    "    - Template matching\n",
    "    - Outlier detection or density estimation \n",
    "   \n",
    "   \n",
    "- Always ask: what type of problem are you trying to solve? \n",
    "\n",
    "- It is not unusual to use a combination of both methods to solve a specific problem."
   ]
  },
  {
   "cell_type": "markdown",
   "metadata": {
    "slideshow": {
     "slide_type": "slide"
    }
   },
   "source": [
    "# Classification vs Regression \n",
    "\n",
    "- Classification: when the \"decision\" we want to make is of categories \n",
    "    - Does a patient have cancer?\n",
    "    - Should a loan be given or not?\n",
    "    - Is this email spam or not?\n",
    "    \n",
    "    \n",
    "- Regression: when the \"decision\" we want to make is a continuous variable   \n",
    "    - How much is this house worth?\n",
    "    - How risky is this loan?\n",
    "    - What is this person's BMI?"
   ]
  },
  {
   "cell_type": "markdown",
   "metadata": {
    "slideshow": {
     "slide_type": "slide"
    }
   },
   "source": [
    "# Classification vs Regression\n",
    "\n",
    "<img src=\"./imgs/Lecture-1/ML-pipe.png\">\n",
    "\n",
    "- Can think of supervised learning as learning a \"black box\" that transforms the input to a desired output\n",
    "- Regression: the output $y \\in \\mathbb{R}$\n",
    "    - Usually can be generalized easily to multiple outputs $y \\in \\mathbb{R}^{m}$\n",
    "- Classification: the output is one of $m$ categories $y \\in \\{0, 1, \\ldots, m -1\\}$ \n",
    "\n",
    "\n",
    "- We can think of characterizing this black box as a function $f(x)$ that maps inputs from $x \\in \\mathbb{R}^{n}$ to outputs $y$ "
   ]
  },
  {
   "cell_type": "markdown",
   "metadata": {
    "slideshow": {
     "slide_type": "slide"
    }
   },
   "source": [
    "# Supervised learning pipeline: prepare, learn, and evaluate\n",
    "\n",
    "1. **Prepare** a dataset with lots of input and output examples: $\\{(x_{i}, y_{i}) : i = 1, \\ldots, N\\}$. A large potion of this step may be preparing the data so that $x_i \\in \\mathbb{R}^n$.\n",
    "2. **Learn** a model (that is, a function) that maps inputs $x$ to the outputs $y$. In other words, find  a function $f(\\cdot)$ based on the the input $x_i$ and output $y_i$ example pairs that you have so that $f(x) \\rightarrow y$. Learning is typically done as an optimization function that minimizes a loss function. \n",
    "3. **Evaluate**how accurate the model $f(x)$ is for *future* or unseen data\n",
    "\n",
    "\n",
    "- How do we get *future* data?"
   ]
  },
  {
   "cell_type": "markdown",
   "metadata": {
    "slideshow": {
     "slide_type": "slide"
    }
   },
   "source": [
    "# A hack solution to get unseen data\n",
    "\n",
    "- Split the data set randomly into 3 sets: training set, validation set, test set\n",
    "- Use the training and validation sets to build the model $f(x)$\n",
    "- Use the test set as a proxy for \"future\" or unseen data to test and measure the performance of $f(x)$\n",
    "    - Sometimes the training and validation sets are merged so we really have just two sets: training and test sets\n",
    "- There is no guarantee that the test set represents future data!\n",
    "\n",
    "<img src=\"./imgs/Lecture-1/train-val-test.png\">"
   ]
  },
  {
   "cell_type": "markdown",
   "metadata": {
    "slideshow": {
     "slide_type": "slide"
    }
   },
   "source": [
    "# k-fold cross validation\n",
    "\n",
    "- Some may be skeptical that a single split is not robust enough to capture all the variations that we may get in unseen data. \n",
    "- k-fold cross validation is a common method for testing capturing the variability of unseen data\n",
    "- Instead of relying on a single test set, we repeat the experiment k-times and are able to get performance bounds\n",
    "\n",
    "<img src=\"./imgs/Lecture-1/5-fold.png\">\n",
    "\n",
    "- We often perform *stratified* k-fold: we want each fold to have a similar distribution of targets as the original dataset"
   ]
  },
  {
   "cell_type": "markdown",
   "metadata": {},
   "source": [
    "Typically we use K= 5-10 and find the CV error that is minimum for all values of lambda"
   ]
  },
  {
   "cell_type": "markdown",
   "metadata": {
    "slideshow": {
     "slide_type": "slide"
    }
   },
   "source": [
    "# Data preparation \n",
    "\n",
    "- Data cleaning:\n",
    "    - Outliers\n",
    "    - Missing values\n",
    "    - Data scale (should data be strictly positive? does negative mean something different?)\n",
    "\n",
    "\n",
    "- Data embedding:\n",
    "    - How do we encode non-numeric data into a vector embedding?\n",
    "        - one-hot-encoding "
   ]
  },
  {
   "cell_type": "markdown",
   "metadata": {
    "slideshow": {
     "slide_type": "slide"
    }
   },
   "source": [
    "# Learning: finding a function that optimizes an objective function\n",
    "\n",
    "- Typically we want to find a function $f$ that maps between the inputs and outputs and optimizes over an objective function\n",
    "- A common objective function is the Expected loss:\n",
    "\n",
    "$$\\underset{f}{\\text{argmin}} \\int p(x,y) L(f(x), y) dx dy$$\n",
    "\n",
    "- In the case of classification the Expected loss could just be:\n",
    "\n",
    "$$ L(f(x), y) = \\left\\{\\begin{matrix}\n",
    "0 & \\text{if } f(x) = y \\\\ \n",
    "c & \\text{other wise}\n",
    "\\end{matrix}\\right. $$\n",
    "\n",
    "- For $c > 0$ this is called the \"0-1 loss\"\n",
    "- The engineer should design the loss function if assumptions of the problem changes"
   ]
  },
  {
   "cell_type": "markdown",
   "metadata": {
    "slideshow": {
     "slide_type": "slide"
    }
   },
   "source": [
    "# Binary classification example: activity vs. stationary recognition\n",
    "\n",
    "- A wearable device that takes sensor measurements on a time window is worn by several subjects\n",
    "- Video cameras monitor what the subjects are doing while wearing the device. Each frame in the camera has been \"tagged\" with the activity the user is engaged in\n",
    "- We want to build a classifier that predicts based on the sensor measurements if the user is active (moving) or idle (not moving, stationary, etc.)\n",
    "\n",
    "\n",
    "- Given a set of sensor measurements $x$, what is the activity $y$?\n",
    "\n",
    "\n",
    "- $ y \\in \\{\\text{active}, \\text{idle}\\}$\n",
    "- $ y \\in \\{0, 1\\}$\n",
    "\n",
    "\n"
   ]
  },
  {
   "cell_type": "code",
   "execution_count": 28,
   "metadata": {
    "slideshow": {
     "slide_type": "slide"
    }
   },
   "outputs": [
    {
     "data": {
      "text/html": [
       "<div>\n",
       "<style scoped>\n",
       "    .dataframe tbody tr th:only-of-type {\n",
       "        vertical-align: middle;\n",
       "    }\n",
       "\n",
       "    .dataframe tbody tr th {\n",
       "        vertical-align: top;\n",
       "    }\n",
       "\n",
       "    .dataframe thead th {\n",
       "        text-align: right;\n",
       "    }\n",
       "</style>\n",
       "<table border=\"1\" class=\"dataframe\">\n",
       "  <thead>\n",
       "    <tr style=\"text-align: right;\">\n",
       "      <th></th>\n",
       "      <th>tBodyAcc-mean()-X</th>\n",
       "      <th>tBodyAcc-mean()-Y</th>\n",
       "      <th>tBodyAcc-mean()-Z</th>\n",
       "      <th>tBodyAcc-std()-X</th>\n",
       "      <th>tBodyAcc-std()-Y</th>\n",
       "      <th>tBodyAcc-std()-Z</th>\n",
       "      <th>tBodyAcc-mad()-X</th>\n",
       "      <th>tBodyAcc-mad()-Y</th>\n",
       "      <th>tBodyAcc-mad()-Z</th>\n",
       "      <th>tBodyAcc-max()-X</th>\n",
       "      <th>...</th>\n",
       "      <th>fBodyBodyGyroJerkMag-kurtosis()</th>\n",
       "      <th>angle(tBodyAccMean,gravity)</th>\n",
       "      <th>angle(tBodyAccJerkMean),gravityMean)</th>\n",
       "      <th>angle(tBodyGyroMean,gravityMean)</th>\n",
       "      <th>angle(tBodyGyroJerkMean,gravityMean)</th>\n",
       "      <th>angle(X,gravityMean)</th>\n",
       "      <th>angle(Y,gravityMean)</th>\n",
       "      <th>angle(Z,gravityMean)</th>\n",
       "      <th>subject</th>\n",
       "      <th>Activity</th>\n",
       "    </tr>\n",
       "  </thead>\n",
       "  <tbody>\n",
       "    <tr>\n",
       "      <th>7332</th>\n",
       "      <td>0.188898</td>\n",
       "      <td>-0.094342</td>\n",
       "      <td>-0.062392</td>\n",
       "      <td>-0.346270</td>\n",
       "      <td>-0.235424</td>\n",
       "      <td>0.197720</td>\n",
       "      <td>-0.407151</td>\n",
       "      <td>-0.247231</td>\n",
       "      <td>0.271268</td>\n",
       "      <td>-0.104526</td>\n",
       "      <td>...</td>\n",
       "      <td>-0.472851</td>\n",
       "      <td>0.189291</td>\n",
       "      <td>-0.417935</td>\n",
       "      <td>0.833435</td>\n",
       "      <td>-0.884542</td>\n",
       "      <td>-0.876955</td>\n",
       "      <td>0.183176</td>\n",
       "      <td>0.021774</td>\n",
       "      <td>30</td>\n",
       "      <td>WALKING_UPSTAIRS</td>\n",
       "    </tr>\n",
       "    <tr>\n",
       "      <th>7333</th>\n",
       "      <td>0.215789</td>\n",
       "      <td>-0.022920</td>\n",
       "      <td>-0.236713</td>\n",
       "      <td>-0.385755</td>\n",
       "      <td>-0.189566</td>\n",
       "      <td>0.017584</td>\n",
       "      <td>-0.454614</td>\n",
       "      <td>-0.232688</td>\n",
       "      <td>-0.001215</td>\n",
       "      <td>0.013823</td>\n",
       "      <td>...</td>\n",
       "      <td>-0.782173</td>\n",
       "      <td>0.188078</td>\n",
       "      <td>0.347573</td>\n",
       "      <td>0.798495</td>\n",
       "      <td>-0.041102</td>\n",
       "      <td>-0.827843</td>\n",
       "      <td>0.216989</td>\n",
       "      <td>0.011177</td>\n",
       "      <td>30</td>\n",
       "      <td>WALKING_UPSTAIRS</td>\n",
       "    </tr>\n",
       "    <tr>\n",
       "      <th>7334</th>\n",
       "      <td>0.407780</td>\n",
       "      <td>-0.053721</td>\n",
       "      <td>-0.160671</td>\n",
       "      <td>-0.321271</td>\n",
       "      <td>-0.089818</td>\n",
       "      <td>0.173128</td>\n",
       "      <td>-0.394279</td>\n",
       "      <td>-0.095346</td>\n",
       "      <td>0.205751</td>\n",
       "      <td>0.013823</td>\n",
       "      <td>...</td>\n",
       "      <td>-0.644600</td>\n",
       "      <td>-0.593603</td>\n",
       "      <td>0.547782</td>\n",
       "      <td>0.535282</td>\n",
       "      <td>-0.081472</td>\n",
       "      <td>-0.802731</td>\n",
       "      <td>0.234439</td>\n",
       "      <td>0.013737</td>\n",
       "      <td>30</td>\n",
       "      <td>WALKING_UPSTAIRS</td>\n",
       "    </tr>\n",
       "    <tr>\n",
       "      <th>7335</th>\n",
       "      <td>0.260279</td>\n",
       "      <td>0.000813</td>\n",
       "      <td>-0.103406</td>\n",
       "      <td>-0.330964</td>\n",
       "      <td>0.018713</td>\n",
       "      <td>0.208689</td>\n",
       "      <td>-0.445056</td>\n",
       "      <td>0.002973</td>\n",
       "      <td>0.333803</td>\n",
       "      <td>0.185029</td>\n",
       "      <td>...</td>\n",
       "      <td>-0.886630</td>\n",
       "      <td>0.370358</td>\n",
       "      <td>-0.302914</td>\n",
       "      <td>-0.773404</td>\n",
       "      <td>-0.578706</td>\n",
       "      <td>-0.782357</td>\n",
       "      <td>0.248205</td>\n",
       "      <td>0.007170</td>\n",
       "      <td>30</td>\n",
       "      <td>WALKING_UPSTAIRS</td>\n",
       "    </tr>\n",
       "    <tr>\n",
       "      <th>7336</th>\n",
       "      <td>0.128064</td>\n",
       "      <td>-0.027657</td>\n",
       "      <td>-0.088319</td>\n",
       "      <td>-0.280320</td>\n",
       "      <td>-0.009818</td>\n",
       "      <td>0.118190</td>\n",
       "      <td>-0.419705</td>\n",
       "      <td>-0.059985</td>\n",
       "      <td>0.214129</td>\n",
       "      <td>0.185029</td>\n",
       "      <td>...</td>\n",
       "      <td>-0.808755</td>\n",
       "      <td>0.730165</td>\n",
       "      <td>-0.013649</td>\n",
       "      <td>-0.881019</td>\n",
       "      <td>-0.059017</td>\n",
       "      <td>-0.779754</td>\n",
       "      <td>0.250290</td>\n",
       "      <td>0.022490</td>\n",
       "      <td>30</td>\n",
       "      <td>WALKING_UPSTAIRS</td>\n",
       "    </tr>\n",
       "    <tr>\n",
       "      <th>7337</th>\n",
       "      <td>0.278414</td>\n",
       "      <td>-0.070497</td>\n",
       "      <td>-0.050016</td>\n",
       "      <td>-0.228968</td>\n",
       "      <td>-0.151583</td>\n",
       "      <td>0.225156</td>\n",
       "      <td>-0.306094</td>\n",
       "      <td>-0.142802</td>\n",
       "      <td>0.288118</td>\n",
       "      <td>0.021923</td>\n",
       "      <td>...</td>\n",
       "      <td>-0.701651</td>\n",
       "      <td>-0.097635</td>\n",
       "      <td>0.721639</td>\n",
       "      <td>0.780377</td>\n",
       "      <td>-0.082877</td>\n",
       "      <td>-0.780967</td>\n",
       "      <td>0.247460</td>\n",
       "      <td>0.043458</td>\n",
       "      <td>30</td>\n",
       "      <td>WALKING_UPSTAIRS</td>\n",
       "    </tr>\n",
       "    <tr>\n",
       "      <th>7338</th>\n",
       "      <td>0.344757</td>\n",
       "      <td>-0.045966</td>\n",
       "      <td>-0.011919</td>\n",
       "      <td>-0.272351</td>\n",
       "      <td>-0.032724</td>\n",
       "      <td>0.221100</td>\n",
       "      <td>-0.357972</td>\n",
       "      <td>-0.040113</td>\n",
       "      <td>0.290947</td>\n",
       "      <td>-0.031458</td>\n",
       "      <td>...</td>\n",
       "      <td>-0.858891</td>\n",
       "      <td>-0.270300</td>\n",
       "      <td>-0.108579</td>\n",
       "      <td>-0.301490</td>\n",
       "      <td>-0.514063</td>\n",
       "      <td>-0.777428</td>\n",
       "      <td>0.250425</td>\n",
       "      <td>0.040161</td>\n",
       "      <td>30</td>\n",
       "      <td>WALKING_UPSTAIRS</td>\n",
       "    </tr>\n",
       "    <tr>\n",
       "      <th>7339</th>\n",
       "      <td>0.326647</td>\n",
       "      <td>0.012036</td>\n",
       "      <td>-0.091359</td>\n",
       "      <td>-0.284641</td>\n",
       "      <td>-0.141369</td>\n",
       "      <td>0.175757</td>\n",
       "      <td>-0.367565</td>\n",
       "      <td>-0.197203</td>\n",
       "      <td>0.248114</td>\n",
       "      <td>-0.013741</td>\n",
       "      <td>...</td>\n",
       "      <td>-0.848006</td>\n",
       "      <td>-0.211652</td>\n",
       "      <td>-0.421976</td>\n",
       "      <td>-0.063065</td>\n",
       "      <td>0.424398</td>\n",
       "      <td>-0.773576</td>\n",
       "      <td>0.254537</td>\n",
       "      <td>0.023146</td>\n",
       "      <td>30</td>\n",
       "      <td>WALKING_UPSTAIRS</td>\n",
       "    </tr>\n",
       "    <tr>\n",
       "      <th>7340</th>\n",
       "      <td>0.223283</td>\n",
       "      <td>0.013911</td>\n",
       "      <td>-0.214152</td>\n",
       "      <td>-0.314130</td>\n",
       "      <td>-0.287192</td>\n",
       "      <td>0.079174</td>\n",
       "      <td>-0.392787</td>\n",
       "      <td>-0.307278</td>\n",
       "      <td>0.127536</td>\n",
       "      <td>-0.013741</td>\n",
       "      <td>...</td>\n",
       "      <td>-0.804343</td>\n",
       "      <td>0.246445</td>\n",
       "      <td>0.239618</td>\n",
       "      <td>0.853643</td>\n",
       "      <td>0.610375</td>\n",
       "      <td>-0.775554</td>\n",
       "      <td>0.253222</td>\n",
       "      <td>0.014452</td>\n",
       "      <td>30</td>\n",
       "      <td>WALKING_UPSTAIRS</td>\n",
       "    </tr>\n",
       "    <tr>\n",
       "      <th>7341</th>\n",
       "      <td>0.363768</td>\n",
       "      <td>-0.011264</td>\n",
       "      <td>-0.275724</td>\n",
       "      <td>-0.352297</td>\n",
       "      <td>-0.235648</td>\n",
       "      <td>0.068057</td>\n",
       "      <td>-0.418548</td>\n",
       "      <td>-0.234833</td>\n",
       "      <td>0.107217</td>\n",
       "      <td>-0.122244</td>\n",
       "      <td>...</td>\n",
       "      <td>-0.551732</td>\n",
       "      <td>-0.178334</td>\n",
       "      <td>0.412831</td>\n",
       "      <td>0.822206</td>\n",
       "      <td>-0.002927</td>\n",
       "      <td>-0.774366</td>\n",
       "      <td>0.254070</td>\n",
       "      <td>0.016289</td>\n",
       "      <td>30</td>\n",
       "      <td>WALKING_UPSTAIRS</td>\n",
       "    </tr>\n",
       "    <tr>\n",
       "      <th>7342</th>\n",
       "      <td>0.276137</td>\n",
       "      <td>-0.108046</td>\n",
       "      <td>-0.056677</td>\n",
       "      <td>-0.230796</td>\n",
       "      <td>-0.140521</td>\n",
       "      <td>0.117919</td>\n",
       "      <td>-0.300133</td>\n",
       "      <td>-0.102807</td>\n",
       "      <td>0.181639</td>\n",
       "      <td>0.236195</td>\n",
       "      <td>...</td>\n",
       "      <td>-0.534599</td>\n",
       "      <td>-0.097489</td>\n",
       "      <td>0.172312</td>\n",
       "      <td>0.918171</td>\n",
       "      <td>-0.609025</td>\n",
       "      <td>-0.830575</td>\n",
       "      <td>0.213174</td>\n",
       "      <td>-0.005105</td>\n",
       "      <td>30</td>\n",
       "      <td>WALKING_UPSTAIRS</td>\n",
       "    </tr>\n",
       "    <tr>\n",
       "      <th>7343</th>\n",
       "      <td>0.294230</td>\n",
       "      <td>-0.039968</td>\n",
       "      <td>-0.143397</td>\n",
       "      <td>-0.230396</td>\n",
       "      <td>-0.133669</td>\n",
       "      <td>0.095870</td>\n",
       "      <td>-0.308265</td>\n",
       "      <td>-0.112551</td>\n",
       "      <td>0.162174</td>\n",
       "      <td>0.185661</td>\n",
       "      <td>...</td>\n",
       "      <td>-0.603412</td>\n",
       "      <td>-0.201502</td>\n",
       "      <td>-0.416537</td>\n",
       "      <td>0.885558</td>\n",
       "      <td>-0.879032</td>\n",
       "      <td>-0.799426</td>\n",
       "      <td>0.235490</td>\n",
       "      <td>-0.001647</td>\n",
       "      <td>30</td>\n",
       "      <td>WALKING_UPSTAIRS</td>\n",
       "    </tr>\n",
       "    <tr>\n",
       "      <th>7344</th>\n",
       "      <td>0.221206</td>\n",
       "      <td>-0.036390</td>\n",
       "      <td>-0.167651</td>\n",
       "      <td>-0.176954</td>\n",
       "      <td>-0.050147</td>\n",
       "      <td>0.075128</td>\n",
       "      <td>-0.269247</td>\n",
       "      <td>-0.027326</td>\n",
       "      <td>0.110784</td>\n",
       "      <td>0.185661</td>\n",
       "      <td>...</td>\n",
       "      <td>-0.338078</td>\n",
       "      <td>0.256085</td>\n",
       "      <td>-0.544541</td>\n",
       "      <td>-0.546757</td>\n",
       "      <td>-0.950493</td>\n",
       "      <td>-0.787935</td>\n",
       "      <td>0.244490</td>\n",
       "      <td>0.009538</td>\n",
       "      <td>30</td>\n",
       "      <td>WALKING_UPSTAIRS</td>\n",
       "    </tr>\n",
       "    <tr>\n",
       "      <th>7345</th>\n",
       "      <td>0.207861</td>\n",
       "      <td>0.063423</td>\n",
       "      <td>-0.220567</td>\n",
       "      <td>-0.244758</td>\n",
       "      <td>-0.032159</td>\n",
       "      <td>0.118361</td>\n",
       "      <td>-0.339273</td>\n",
       "      <td>-0.088895</td>\n",
       "      <td>0.146128</td>\n",
       "      <td>0.118226</td>\n",
       "      <td>...</td>\n",
       "      <td>-0.930159</td>\n",
       "      <td>0.263885</td>\n",
       "      <td>-0.290563</td>\n",
       "      <td>-0.864127</td>\n",
       "      <td>0.591409</td>\n",
       "      <td>-0.780362</td>\n",
       "      <td>0.249624</td>\n",
       "      <td>0.027878</td>\n",
       "      <td>30</td>\n",
       "      <td>WALKING_UPSTAIRS</td>\n",
       "    </tr>\n",
       "    <tr>\n",
       "      <th>7346</th>\n",
       "      <td>0.237966</td>\n",
       "      <td>-0.001088</td>\n",
       "      <td>-0.148326</td>\n",
       "      <td>-0.218949</td>\n",
       "      <td>-0.012927</td>\n",
       "      <td>0.170019</td>\n",
       "      <td>-0.309599</td>\n",
       "      <td>-0.041392</td>\n",
       "      <td>0.207454</td>\n",
       "      <td>0.210795</td>\n",
       "      <td>...</td>\n",
       "      <td>-0.867236</td>\n",
       "      <td>0.352776</td>\n",
       "      <td>-0.604817</td>\n",
       "      <td>-0.774783</td>\n",
       "      <td>0.730142</td>\n",
       "      <td>-0.797272</td>\n",
       "      <td>0.234996</td>\n",
       "      <td>0.048907</td>\n",
       "      <td>30</td>\n",
       "      <td>WALKING_UPSTAIRS</td>\n",
       "    </tr>\n",
       "    <tr>\n",
       "      <th>7347</th>\n",
       "      <td>0.299665</td>\n",
       "      <td>-0.057193</td>\n",
       "      <td>-0.181233</td>\n",
       "      <td>-0.195387</td>\n",
       "      <td>0.039905</td>\n",
       "      <td>0.077078</td>\n",
       "      <td>-0.282301</td>\n",
       "      <td>0.043616</td>\n",
       "      <td>0.060410</td>\n",
       "      <td>0.210795</td>\n",
       "      <td>...</td>\n",
       "      <td>-0.880324</td>\n",
       "      <td>-0.190437</td>\n",
       "      <td>0.829718</td>\n",
       "      <td>0.206972</td>\n",
       "      <td>-0.425619</td>\n",
       "      <td>-0.791883</td>\n",
       "      <td>0.238604</td>\n",
       "      <td>0.049819</td>\n",
       "      <td>30</td>\n",
       "      <td>WALKING_UPSTAIRS</td>\n",
       "    </tr>\n",
       "    <tr>\n",
       "      <th>7348</th>\n",
       "      <td>0.273853</td>\n",
       "      <td>-0.007749</td>\n",
       "      <td>-0.147468</td>\n",
       "      <td>-0.235309</td>\n",
       "      <td>0.004816</td>\n",
       "      <td>0.059280</td>\n",
       "      <td>-0.322552</td>\n",
       "      <td>-0.029456</td>\n",
       "      <td>0.080585</td>\n",
       "      <td>0.117440</td>\n",
       "      <td>...</td>\n",
       "      <td>-0.680744</td>\n",
       "      <td>0.064907</td>\n",
       "      <td>0.875679</td>\n",
       "      <td>-0.879033</td>\n",
       "      <td>0.400219</td>\n",
       "      <td>-0.771840</td>\n",
       "      <td>0.252676</td>\n",
       "      <td>0.050053</td>\n",
       "      <td>30</td>\n",
       "      <td>WALKING_UPSTAIRS</td>\n",
       "    </tr>\n",
       "    <tr>\n",
       "      <th>7349</th>\n",
       "      <td>0.273387</td>\n",
       "      <td>-0.017011</td>\n",
       "      <td>-0.045022</td>\n",
       "      <td>-0.218218</td>\n",
       "      <td>-0.103822</td>\n",
       "      <td>0.274533</td>\n",
       "      <td>-0.304515</td>\n",
       "      <td>-0.098913</td>\n",
       "      <td>0.332584</td>\n",
       "      <td>0.043999</td>\n",
       "      <td>...</td>\n",
       "      <td>-0.304029</td>\n",
       "      <td>0.052806</td>\n",
       "      <td>-0.266724</td>\n",
       "      <td>0.864404</td>\n",
       "      <td>0.701169</td>\n",
       "      <td>-0.779133</td>\n",
       "      <td>0.249145</td>\n",
       "      <td>0.040811</td>\n",
       "      <td>30</td>\n",
       "      <td>WALKING_UPSTAIRS</td>\n",
       "    </tr>\n",
       "    <tr>\n",
       "      <th>7350</th>\n",
       "      <td>0.289654</td>\n",
       "      <td>-0.018843</td>\n",
       "      <td>-0.158281</td>\n",
       "      <td>-0.219139</td>\n",
       "      <td>-0.111412</td>\n",
       "      <td>0.268893</td>\n",
       "      <td>-0.310487</td>\n",
       "      <td>-0.068200</td>\n",
       "      <td>0.319473</td>\n",
       "      <td>0.101702</td>\n",
       "      <td>...</td>\n",
       "      <td>-0.344314</td>\n",
       "      <td>-0.101360</td>\n",
       "      <td>0.700740</td>\n",
       "      <td>0.936674</td>\n",
       "      <td>-0.589479</td>\n",
       "      <td>-0.785181</td>\n",
       "      <td>0.246432</td>\n",
       "      <td>0.025339</td>\n",
       "      <td>30</td>\n",
       "      <td>WALKING_UPSTAIRS</td>\n",
       "    </tr>\n",
       "    <tr>\n",
       "      <th>7351</th>\n",
       "      <td>0.351503</td>\n",
       "      <td>-0.012423</td>\n",
       "      <td>-0.203867</td>\n",
       "      <td>-0.269270</td>\n",
       "      <td>-0.087212</td>\n",
       "      <td>0.177404</td>\n",
       "      <td>-0.377404</td>\n",
       "      <td>-0.038678</td>\n",
       "      <td>0.229430</td>\n",
       "      <td>0.269013</td>\n",
       "      <td>...</td>\n",
       "      <td>-0.740738</td>\n",
       "      <td>-0.280088</td>\n",
       "      <td>-0.007739</td>\n",
       "      <td>-0.056088</td>\n",
       "      <td>-0.616956</td>\n",
       "      <td>-0.783267</td>\n",
       "      <td>0.246809</td>\n",
       "      <td>0.036695</td>\n",
       "      <td>30</td>\n",
       "      <td>WALKING_UPSTAIRS</td>\n",
       "    </tr>\n",
       "  </tbody>\n",
       "</table>\n",
       "<p>20 rows × 563 columns</p>\n",
       "</div>"
      ],
      "text/plain": [
       "      tBodyAcc-mean()-X  tBodyAcc-mean()-Y  tBodyAcc-mean()-Z  \\\n",
       "7332           0.188898          -0.094342          -0.062392   \n",
       "7333           0.215789          -0.022920          -0.236713   \n",
       "7334           0.407780          -0.053721          -0.160671   \n",
       "7335           0.260279           0.000813          -0.103406   \n",
       "7336           0.128064          -0.027657          -0.088319   \n",
       "7337           0.278414          -0.070497          -0.050016   \n",
       "7338           0.344757          -0.045966          -0.011919   \n",
       "7339           0.326647           0.012036          -0.091359   \n",
       "7340           0.223283           0.013911          -0.214152   \n",
       "7341           0.363768          -0.011264          -0.275724   \n",
       "7342           0.276137          -0.108046          -0.056677   \n",
       "7343           0.294230          -0.039968          -0.143397   \n",
       "7344           0.221206          -0.036390          -0.167651   \n",
       "7345           0.207861           0.063423          -0.220567   \n",
       "7346           0.237966          -0.001088          -0.148326   \n",
       "7347           0.299665          -0.057193          -0.181233   \n",
       "7348           0.273853          -0.007749          -0.147468   \n",
       "7349           0.273387          -0.017011          -0.045022   \n",
       "7350           0.289654          -0.018843          -0.158281   \n",
       "7351           0.351503          -0.012423          -0.203867   \n",
       "\n",
       "      tBodyAcc-std()-X  tBodyAcc-std()-Y  tBodyAcc-std()-Z  tBodyAcc-mad()-X  \\\n",
       "7332         -0.346270         -0.235424          0.197720         -0.407151   \n",
       "7333         -0.385755         -0.189566          0.017584         -0.454614   \n",
       "7334         -0.321271         -0.089818          0.173128         -0.394279   \n",
       "7335         -0.330964          0.018713          0.208689         -0.445056   \n",
       "7336         -0.280320         -0.009818          0.118190         -0.419705   \n",
       "7337         -0.228968         -0.151583          0.225156         -0.306094   \n",
       "7338         -0.272351         -0.032724          0.221100         -0.357972   \n",
       "7339         -0.284641         -0.141369          0.175757         -0.367565   \n",
       "7340         -0.314130         -0.287192          0.079174         -0.392787   \n",
       "7341         -0.352297         -0.235648          0.068057         -0.418548   \n",
       "7342         -0.230796         -0.140521          0.117919         -0.300133   \n",
       "7343         -0.230396         -0.133669          0.095870         -0.308265   \n",
       "7344         -0.176954         -0.050147          0.075128         -0.269247   \n",
       "7345         -0.244758         -0.032159          0.118361         -0.339273   \n",
       "7346         -0.218949         -0.012927          0.170019         -0.309599   \n",
       "7347         -0.195387          0.039905          0.077078         -0.282301   \n",
       "7348         -0.235309          0.004816          0.059280         -0.322552   \n",
       "7349         -0.218218         -0.103822          0.274533         -0.304515   \n",
       "7350         -0.219139         -0.111412          0.268893         -0.310487   \n",
       "7351         -0.269270         -0.087212          0.177404         -0.377404   \n",
       "\n",
       "      tBodyAcc-mad()-Y  tBodyAcc-mad()-Z  tBodyAcc-max()-X        ...         \\\n",
       "7332         -0.247231          0.271268         -0.104526        ...          \n",
       "7333         -0.232688         -0.001215          0.013823        ...          \n",
       "7334         -0.095346          0.205751          0.013823        ...          \n",
       "7335          0.002973          0.333803          0.185029        ...          \n",
       "7336         -0.059985          0.214129          0.185029        ...          \n",
       "7337         -0.142802          0.288118          0.021923        ...          \n",
       "7338         -0.040113          0.290947         -0.031458        ...          \n",
       "7339         -0.197203          0.248114         -0.013741        ...          \n",
       "7340         -0.307278          0.127536         -0.013741        ...          \n",
       "7341         -0.234833          0.107217         -0.122244        ...          \n",
       "7342         -0.102807          0.181639          0.236195        ...          \n",
       "7343         -0.112551          0.162174          0.185661        ...          \n",
       "7344         -0.027326          0.110784          0.185661        ...          \n",
       "7345         -0.088895          0.146128          0.118226        ...          \n",
       "7346         -0.041392          0.207454          0.210795        ...          \n",
       "7347          0.043616          0.060410          0.210795        ...          \n",
       "7348         -0.029456          0.080585          0.117440        ...          \n",
       "7349         -0.098913          0.332584          0.043999        ...          \n",
       "7350         -0.068200          0.319473          0.101702        ...          \n",
       "7351         -0.038678          0.229430          0.269013        ...          \n",
       "\n",
       "      fBodyBodyGyroJerkMag-kurtosis()  angle(tBodyAccMean,gravity)  \\\n",
       "7332                        -0.472851                     0.189291   \n",
       "7333                        -0.782173                     0.188078   \n",
       "7334                        -0.644600                    -0.593603   \n",
       "7335                        -0.886630                     0.370358   \n",
       "7336                        -0.808755                     0.730165   \n",
       "7337                        -0.701651                    -0.097635   \n",
       "7338                        -0.858891                    -0.270300   \n",
       "7339                        -0.848006                    -0.211652   \n",
       "7340                        -0.804343                     0.246445   \n",
       "7341                        -0.551732                    -0.178334   \n",
       "7342                        -0.534599                    -0.097489   \n",
       "7343                        -0.603412                    -0.201502   \n",
       "7344                        -0.338078                     0.256085   \n",
       "7345                        -0.930159                     0.263885   \n",
       "7346                        -0.867236                     0.352776   \n",
       "7347                        -0.880324                    -0.190437   \n",
       "7348                        -0.680744                     0.064907   \n",
       "7349                        -0.304029                     0.052806   \n",
       "7350                        -0.344314                    -0.101360   \n",
       "7351                        -0.740738                    -0.280088   \n",
       "\n",
       "      angle(tBodyAccJerkMean),gravityMean)  angle(tBodyGyroMean,gravityMean)  \\\n",
       "7332                             -0.417935                          0.833435   \n",
       "7333                              0.347573                          0.798495   \n",
       "7334                              0.547782                          0.535282   \n",
       "7335                             -0.302914                         -0.773404   \n",
       "7336                             -0.013649                         -0.881019   \n",
       "7337                              0.721639                          0.780377   \n",
       "7338                             -0.108579                         -0.301490   \n",
       "7339                             -0.421976                         -0.063065   \n",
       "7340                              0.239618                          0.853643   \n",
       "7341                              0.412831                          0.822206   \n",
       "7342                              0.172312                          0.918171   \n",
       "7343                             -0.416537                          0.885558   \n",
       "7344                             -0.544541                         -0.546757   \n",
       "7345                             -0.290563                         -0.864127   \n",
       "7346                             -0.604817                         -0.774783   \n",
       "7347                              0.829718                          0.206972   \n",
       "7348                              0.875679                         -0.879033   \n",
       "7349                             -0.266724                          0.864404   \n",
       "7350                              0.700740                          0.936674   \n",
       "7351                             -0.007739                         -0.056088   \n",
       "\n",
       "      angle(tBodyGyroJerkMean,gravityMean)  angle(X,gravityMean)  \\\n",
       "7332                             -0.884542             -0.876955   \n",
       "7333                             -0.041102             -0.827843   \n",
       "7334                             -0.081472             -0.802731   \n",
       "7335                             -0.578706             -0.782357   \n",
       "7336                             -0.059017             -0.779754   \n",
       "7337                             -0.082877             -0.780967   \n",
       "7338                             -0.514063             -0.777428   \n",
       "7339                              0.424398             -0.773576   \n",
       "7340                              0.610375             -0.775554   \n",
       "7341                             -0.002927             -0.774366   \n",
       "7342                             -0.609025             -0.830575   \n",
       "7343                             -0.879032             -0.799426   \n",
       "7344                             -0.950493             -0.787935   \n",
       "7345                              0.591409             -0.780362   \n",
       "7346                              0.730142             -0.797272   \n",
       "7347                             -0.425619             -0.791883   \n",
       "7348                              0.400219             -0.771840   \n",
       "7349                              0.701169             -0.779133   \n",
       "7350                             -0.589479             -0.785181   \n",
       "7351                             -0.616956             -0.783267   \n",
       "\n",
       "      angle(Y,gravityMean)  angle(Z,gravityMean)  subject          Activity  \n",
       "7332              0.183176              0.021774       30  WALKING_UPSTAIRS  \n",
       "7333              0.216989              0.011177       30  WALKING_UPSTAIRS  \n",
       "7334              0.234439              0.013737       30  WALKING_UPSTAIRS  \n",
       "7335              0.248205              0.007170       30  WALKING_UPSTAIRS  \n",
       "7336              0.250290              0.022490       30  WALKING_UPSTAIRS  \n",
       "7337              0.247460              0.043458       30  WALKING_UPSTAIRS  \n",
       "7338              0.250425              0.040161       30  WALKING_UPSTAIRS  \n",
       "7339              0.254537              0.023146       30  WALKING_UPSTAIRS  \n",
       "7340              0.253222              0.014452       30  WALKING_UPSTAIRS  \n",
       "7341              0.254070              0.016289       30  WALKING_UPSTAIRS  \n",
       "7342              0.213174             -0.005105       30  WALKING_UPSTAIRS  \n",
       "7343              0.235490             -0.001647       30  WALKING_UPSTAIRS  \n",
       "7344              0.244490              0.009538       30  WALKING_UPSTAIRS  \n",
       "7345              0.249624              0.027878       30  WALKING_UPSTAIRS  \n",
       "7346              0.234996              0.048907       30  WALKING_UPSTAIRS  \n",
       "7347              0.238604              0.049819       30  WALKING_UPSTAIRS  \n",
       "7348              0.252676              0.050053       30  WALKING_UPSTAIRS  \n",
       "7349              0.249145              0.040811       30  WALKING_UPSTAIRS  \n",
       "7350              0.246432              0.025339       30  WALKING_UPSTAIRS  \n",
       "7351              0.246809              0.036695       30  WALKING_UPSTAIRS  \n",
       "\n",
       "[20 rows x 563 columns]"
      ]
     },
     "execution_count": 28,
     "metadata": {},
     "output_type": "execute_result"
    }
   ],
   "source": [
    "df = pd.read_csv(\"./data/trian-har.csv\")\n",
    "\n",
    "df.tail(20)\n",
    "\n",
    "\n"
   ]
  },
  {
   "cell_type": "code",
   "execution_count": 4,
   "metadata": {
    "slideshow": {
     "slide_type": "slide"
    }
   },
   "outputs": [
    {
     "data": {
      "text/plain": [
       "Index(['tBodyAcc-mean()-X', 'tBodyAcc-mean()-Y', 'tBodyAcc-mean()-Z',\n",
       "       'tBodyAcc-std()-X', 'tBodyAcc-std()-Y', 'tBodyAcc-std()-Z',\n",
       "       'tBodyAcc-mad()-X', 'tBodyAcc-mad()-Y', 'tBodyAcc-mad()-Z',\n",
       "       'tBodyAcc-max()-X',\n",
       "       ...\n",
       "       'fBodyBodyGyroJerkMag-kurtosis()', 'angle(tBodyAccMean,gravity)',\n",
       "       'angle(tBodyAccJerkMean),gravityMean)',\n",
       "       'angle(tBodyGyroMean,gravityMean)',\n",
       "       'angle(tBodyGyroJerkMean,gravityMean)', 'angle(X,gravityMean)',\n",
       "       'angle(Y,gravityMean)', 'angle(Z,gravityMean)', 'subject', 'Activity'],\n",
       "      dtype='object', length=563)"
      ]
     },
     "execution_count": 4,
     "metadata": {},
     "output_type": "execute_result"
    }
   ],
   "source": [
    "df.columns"
   ]
  },
  {
   "cell_type": "code",
   "execution_count": 4,
   "metadata": {},
   "outputs": [
    {
     "data": {
      "text/plain": [
       "(7352, 563)"
      ]
     },
     "execution_count": 4,
     "metadata": {},
     "output_type": "execute_result"
    }
   ],
   "source": [
    "df.shape"
   ]
  },
  {
   "cell_type": "code",
   "execution_count": 56,
   "metadata": {},
   "outputs": [
    {
     "data": {
      "text/plain": [
       "array([ 1,  3,  5,  6,  7,  8, 11, 14, 15, 16, 17, 19, 21, 22, 23, 25, 26,\n",
       "       27, 28, 29, 30], dtype=int64)"
      ]
     },
     "execution_count": 56,
     "metadata": {},
     "output_type": "execute_result"
    }
   ],
   "source": [
    "df.subject.unique()"
   ]
  },
  {
   "cell_type": "code",
   "execution_count": 57,
   "metadata": {
    "slideshow": {
     "slide_type": "slide"
    }
   },
   "outputs": [
    {
     "name": "stdout",
     "output_type": "stream",
     "text": [
      "   tBodyAcc-mean()-X  tBodyAcc-mean()-Y  tBodyAcc-mean()-Z  tBodyAcc-std()-X  \\\n",
      "1           0.278419          -0.016411          -0.123520         -0.998245   \n",
      "2           0.279653          -0.019467          -0.113462         -0.995380   \n",
      "3           0.279174          -0.026201          -0.123283         -0.996091   \n",
      "4           0.276629          -0.016570          -0.115362         -0.998139   \n",
      "\n",
      "   tBodyAcc-std()-Y  tBodyAcc-std()-Z  tBodyAcc-mad()-X  tBodyAcc-mad()-Y  \\\n",
      "1         -0.975300         -0.960322         -0.998807         -0.974914   \n",
      "2         -0.967187         -0.978944         -0.996520         -0.963668   \n",
      "3         -0.983403         -0.990675         -0.997099         -0.982750   \n",
      "4         -0.980817         -0.990482         -0.998321         -0.979672   \n",
      "\n",
      "   tBodyAcc-mad()-Z  tBodyAcc-max()-X    ...     \\\n",
      "1         -0.957686         -0.943068    ...      \n",
      "2         -0.977469         -0.938692    ...      \n",
      "3         -0.989302         -0.938692    ...      \n",
      "4         -0.990441         -0.942469    ...      \n",
      "\n",
      "   fBodyBodyGyroJerkMag-kurtosis()  angle(tBodyAccMean,gravity)  \\\n",
      "1                        -0.861499                     0.053477   \n",
      "2                        -0.760104                    -0.118559   \n",
      "3                        -0.482845                    -0.036788   \n",
      "4                        -0.699205                     0.123320   \n",
      "\n",
      "   angle(tBodyAccJerkMean),gravityMean)  angle(tBodyGyroMean,gravityMean)  \\\n",
      "1                             -0.007435                         -0.732626   \n",
      "2                              0.177899                          0.100699   \n",
      "3                             -0.012892                          0.640011   \n",
      "4                              0.122542                          0.693578   \n",
      "\n",
      "   angle(tBodyGyroJerkMean,gravityMean)  angle(X,gravityMean)  \\\n",
      "1                              0.703511             -0.844788   \n",
      "2                              0.808529             -0.848933   \n",
      "3                             -0.485366             -0.848649   \n",
      "4                             -0.615971             -0.847865   \n",
      "\n",
      "   angle(Y,gravityMean)  angle(Z,gravityMean)  subject  Activity  \n",
      "1              0.180289             -0.054317        1  STANDING  \n",
      "2              0.180637             -0.049118        1  STANDING  \n",
      "3              0.181935             -0.047663        1  STANDING  \n",
      "4              0.185151             -0.043892        1  STANDING  \n",
      "\n",
      "[4 rows x 563 columns]\n",
      "The shape of the data is (347, 563)\n",
      "\n",
      "The different activities in the data are:\n",
      "STANDING\n",
      "SITTING\n",
      "LAYING\n",
      "WALKING\n",
      "WALKING_DOWNSTAIRS\n",
      "WALKING_UPSTAIRS\n"
     ]
    }
   ],
   "source": [
    "df_subject = df[df.subject == 1]\n",
    "print(df_subject[1:5])\n",
    "print(\"The shape of the data is\", df_subject.shape)\n",
    "\n",
    "print(\"\\nThe different activities in the data are:\")\n",
    "for a in  list(pd.unique(df_subject.Activity)):\n",
    "    print(a)"
   ]
  },
  {
   "cell_type": "markdown",
   "metadata": {},
   "source": [
    "- Data is not meant to be Square matrix\n",
    "- Idea is to use a rank reduced approximation of a dataset to generalize some of the properties/structures.\n",
    "\n",
    "    A=UΣVTA=UΣVT \n",
    "\n",
    "    1. VV must diagonalize ATAATA \n",
    "    1.1. vivi are eigenvectors of ATAATA.\n",
    "\n",
    "    2. ΣΣ where ΣiiΣii are singular values of AA. \n",
    "    3. UU must diagonalize AATAAT \n",
    "    3.1 uiui are eigenvectors of AATAAT.\n",
    "\n",
    "    If AA has rank rr then:\n",
    "\n",
    "    1. vi⋯vrvi⋯vr forms an orthonormal basis for the range of ATAT \n",
    "    2. ui⋯urui⋯ur form an orthonormal basis for the range of AA\n",
    "    3. Rank of AA is equal to the number of nonzero entries of S. From the form of this factorization\n",
    "- Below the Rank of the Matrix is 347 , but we can reduce this to only 10 singular vectors \n",
    "- "
   ]
  },
  {
   "cell_type": "code",
   "execution_count": 74,
   "metadata": {
    "slideshow": {
     "slide_type": "slide"
    }
   },
   "outputs": [
    {
     "name": "stdout",
     "output_type": "stream",
     "text": [
      "(347, 561)\n",
      "(347, 347) (347,) (561, 561)\n"
     ]
    },
    {
     "data": {
      "image/png": "[encoded data removed]",
      "text/plain": [
       "<matplotlib.figure.Figure at 0x272a66fc0f0>"
      ]
     },
     "metadata": {},
     "output_type": "display_data"
    }
   ],
   "source": [
    "data = np.array(df_subject.iloc[:,:-2])\n",
    "print(data.shape)\n",
    "\n",
    "U, s, V = np.linalg.svd(data)\n",
    "print(U.shape, s.shape, V.shape)\n",
    "plt.plot(s);"
   ]
  },
  {
   "cell_type": "code",
   "execution_count": 75,
   "metadata": {
    "slideshow": {
     "slide_type": "slide"
    }
   },
   "outputs": [
    {
     "data": {
      "text/plain": [
       "<seaborn.axisgrid.FacetGrid at 0x272a6651978>"
      ]
     },
     "execution_count": 75,
     "metadata": {},
     "output_type": "execute_result"
    },
    {
     "data": {
      "image/png": "[encoded data removed]",
      "text/plain": [
       "<matplotlib.figure.Figure at 0x272a6651ac8>"
      ]
     },
     "metadata": {},
     "output_type": "display_data"
    }
   ],
   "source": [
    "#data_projected = pd.DataFrame(np.dot(V, data.T).T, columns= [\"p\" + str(i) for i in range(data.shape[1])])\n",
    "data_projected = pd.DataFrame(np.dot(data, V.T), columns= [\"p\" + str(i) for i in range(data.shape[1])])\n",
    "#print(data_projected[1:10])\n",
    "data_projected[\"Activity\"] = list(df_subject.Activity)\n",
    "\n",
    "\n",
    "\n",
    "sns.lmplot(x = \"p0\", y = \"p1\", hue = \"Activity\", fit_reg=False, legend=True, data = data_projected)"
   ]
  },
  {
   "cell_type": "code",
   "execution_count": 76,
   "metadata": {
    "slideshow": {
     "slide_type": "slide"
    }
   },
   "outputs": [
    {
     "name": "stderr",
     "output_type": "stream",
     "text": [
      "C:\\Users\\sananand\\AppData\\Local\\Continuum\\miniconda3\\lib\\site-packages\\ipykernel_launcher.py:2: SettingWithCopyWarning: \n",
      "A value is trying to be set on a copy of a slice from a DataFrame\n",
      "\n",
      "See the caveats in the documentation: http://pandas.pydata.org/pandas-docs/stable/indexing.html#indexing-view-versus-copy\n",
      "  \n"
     ]
    },
    {
     "data": {
      "text/plain": [
       "<seaborn.axisgrid.FacetGrid at 0x272a6626da0>"
      ]
     },
     "execution_count": 76,
     "metadata": {},
     "output_type": "execute_result"
    },
    {
     "data": {
      "image/png": "[encoded data removed]",
      "text/plain": [
       "<matplotlib.figure.Figure at 0x272a6626160>"
      ]
     },
     "metadata": {},
     "output_type": "display_data"
    }
   ],
   "source": [
    "data_projected[\"state\"] = \"not_active\"\n",
    "data_projected[\"state\"][data_projected[\"Activity\"].str.contains(\"WALKING\")] = \"active\"\n",
    "\n",
    "colors = [\"blue\", \"red\"]\n",
    "\n",
    "sns.lmplot(x = \"p0\", y = \"p1\", hue = \"state\", fit_reg=False, legend=True, data = data_projected, palette=sns.xkcd_palette(colors[0:2]))"
   ]
  },
  {
   "cell_type": "code",
   "execution_count": 77,
   "metadata": {
    "slideshow": {
     "slide_type": "slide"
    }
   },
   "outputs": [
    {
     "data": {
      "image/png": "[encoded data removed]",
      "text/plain": [
       "<matplotlib.figure.Figure at 0x272a6617128>"
      ]
     },
     "metadata": {},
     "output_type": "display_data"
    }
   ],
   "source": [
    "sns.distplot( data_projected[\"p0\"][data_projected.state == \"active\" ], kde = False, color= \"red\", label=\"active\")\n",
    "sns.distplot( data_projected[\"p0\"][data_projected.state != \"active\" ], kde = False, color= \"blue\", label=\"Not Active\")\n",
    "plt.legend();"
   ]
  },
  {
   "cell_type": "markdown",
   "metadata": {
    "slideshow": {
     "slide_type": "slide"
    }
   },
   "source": [
    "# Likelihood ratio test:\n",
    "\n",
    "$$ \\frac{P(x | y = 1)}{P(x | y = 0)} = \\theta$$\n",
    "\n",
    "- If $\\theta > 1$ then we say class 1. Otherwise class 0\n",
    "\n"
   ]
  },
  {
   "cell_type": "markdown",
   "metadata": {
    "slideshow": {
     "slide_type": "slide"
    }
   },
   "source": [
    "# Log-Likelihood ratio test:\n",
    "\n",
    "\n",
    "- It is common to compute the *log* likelihood ratio test\n",
    "\n",
    "$$ \\text{log} \\frac{P(x | y = 1)}{P(x | y = 0)} = \\eta$$\n",
    "where $\\eta = \\text{log}(\\theta)$\n",
    "\n",
    "- Now we say if $\\eta > 0$, then we have class 1. Otherwise class 0"
   ]
  },
  {
   "cell_type": "markdown",
   "metadata": {
    "slideshow": {
     "slide_type": "slide"
    }
   },
   "source": [
    "# Single Variate Gaussian distribution \n",
    "\n",
    "$$ f(x) = \\frac{1}{\\sigma\\sqrt{2\\pi}}\\exp \\big( -\\dfrac{1}{2\\sigma^{2}} (x - \\mu)^{2} \\big)$$\n",
    "\n",
    "<img src=\"./imgs/Lecture-1/normal-pdf.png\">\n",
    "\n",
    "\n",
    "$\\mu = E[X]$\n",
    "\n",
    "$\\sigma^{2} = Var[X] \\triangleq E[\\left(X - E\\left(X\\right)\\right)^2]$\n",
    "\n",
    "\n",
    "$\\begin{align*}\n",
    "E[\\left(X - E[X]\\right)^2] &= E[X^2 -2E[X]X + E[X]^2]\\\\\n",
    "&= E[X^2] - 2E[X]E[X] + E[X]^2\\\\\n",
    "&= E[X^2] - E[X]^2\\\\\n",
    "\\end{align*}\n",
    "$\n",
    "\n"
   ]
  },
  {
   "cell_type": "code",
   "execution_count": 79,
   "metadata": {},
   "outputs": [
    {
     "data": {
      "text/plain": [
       "(347, 563)"
      ]
     },
     "execution_count": 79,
     "metadata": {},
     "output_type": "execute_result"
    }
   ],
   "source": [
    "data_projected.p0[1:10]\n",
    "data_projected.shape"
   ]
  },
  {
   "cell_type": "code",
   "execution_count": 80,
   "metadata": {
    "slideshow": {
     "slide_type": "slide"
    }
   },
   "outputs": [],
   "source": [
    "from sklearn.model_selection import train_test_split\n",
    "\n",
    "X = np.array(data_projected.p0)\n",
    "y = np.zeros(X.shape[0])\n",
    "y[data_projected.state == \"active\"] = 1\n",
    "\n",
    "X_train, X_test, y_train, y_test = train_test_split(X, y, test_size=0.33, random_state=11)"
   ]
  },
  {
   "cell_type": "code",
   "execution_count": 81,
   "metadata": {
    "slideshow": {
     "slide_type": "slide"
    }
   },
   "outputs": [
    {
     "data": {
      "image/png": "[encoded data removed]",
      "text/plain": [
       "<matplotlib.figure.Figure at 0x272a6697b70>"
      ]
     },
     "metadata": {},
     "output_type": "display_data"
    }
   ],
   "source": [
    "plt.hist(X);"
   ]
  },
  {
   "cell_type": "code",
   "execution_count": 83,
   "metadata": {
    "slideshow": {
     "slide_type": "slide"
    }
   },
   "outputs": [],
   "source": [
    "\n",
    "## optimization process: MLE fit to single variate gaussian \n",
    "##\n",
    "## !warning! this method is *still* suffering from data \"leakage\" \n",
    "## \n",
    "mu_active = np.mean(X_train[y_train == 1])\n",
    "var_active = np.var(X_train[y_train == 1])\n",
    "\n",
    "mu_idle = np.mean(X_train[y_train == 0])\n",
    "var_idle = np.var(X_train[y_train == 0])\n",
    "\n",
    "def single_variate_normal_dist_decision(x, mu0, mu1, var0, var1):\n",
    "    dec = (x - mu0)**2/(2*var0) - (x - mu1)**2/(2*(var1)) + .5*np.log(var0/var1)\n",
    "    if dec > 0:\n",
    "        return 1\n",
    "    else:\n",
    "        return 0"
   ]
  },
  {
   "cell_type": "code",
   "execution_count": 84,
   "metadata": {
    "slideshow": {
     "slide_type": "slide"
    }
   },
   "outputs": [
    {
     "data": {
      "text/plain": [
       "-15.198187476241628"
      ]
     },
     "execution_count": 84,
     "metadata": {},
     "output_type": "execute_result"
    },
    {
     "data": {
      "image/png": "[encoded data removed]",
      "text/plain": [
       "<matplotlib.figure.Figure at 0x272a68dd748>"
      ]
     },
     "metadata": {},
     "output_type": "display_data"
    }
   ],
   "source": [
    "x = np.linspace(-20, -8, num = 200)\n",
    "y = np.zeros_like(x)\n",
    "for i in range(x.shape[0]):\n",
    "    y[i] = single_variate_normal_dist_decision(x[i], mu1=mu_active, mu0 = mu_idle, var0=var_idle, var1=var_active)\n",
    "\n",
    "\n",
    "plt.plot(x, y)\n",
    "\n",
    ".5*(mu_active+mu_idle)"
   ]
  },
  {
   "cell_type": "code",
   "execution_count": 85,
   "metadata": {
    "slideshow": {
     "slide_type": "slide"
    }
   },
   "outputs": [
    {
     "data": {
      "text/plain": [
       "-15.198187476241628"
      ]
     },
     "execution_count": 85,
     "metadata": {},
     "output_type": "execute_result"
    },
    {
     "data": {
      "image/png": "[encoded data removed]",
      "text/plain": [
       "<matplotlib.figure.Figure at 0x272a68e0c50>"
      ]
     },
     "metadata": {},
     "output_type": "display_data"
    }
   ],
   "source": [
    "# increasing \"uncertainty\" in the positive class\n",
    "\n",
    "x = np.linspace(-20, -8, num = 200)\n",
    "y = np.zeros_like(x)\n",
    "for i in range(x.shape[0]):\n",
    "    y[i] = single_variate_normal_dist_decision(x[i], mu1=mu_active, mu0 = mu_idle, var0=var_idle, var1=10*var_active)\n",
    "\n",
    "\n",
    "plt.plot(x, y)\n",
    "\n",
    ".5*(mu_active+mu_idle)"
   ]
  },
  {
   "cell_type": "markdown",
   "metadata": {},
   "source": [
    "More chance to be active as we increase var1=10*var_active"
   ]
  },
  {
   "cell_type": "code",
   "execution_count": 88,
   "metadata": {
    "slideshow": {
     "slide_type": "slide"
    }
   },
   "outputs": [
    {
     "name": "stdout",
     "output_type": "stream",
     "text": [
      "[ 1.  1.  0.  0.  0.  0.  1.  1.  1.]\n"
     ]
    },
    {
     "data": {
      "text/plain": [
       "0.97391304347826091"
      ]
     },
     "execution_count": 88,
     "metadata": {},
     "output_type": "execute_result"
    }
   ],
   "source": [
    "y_pred = np.zeros_like(y_test)\n",
    "print(y_test[1:10])\n",
    "\n",
    "for i in range(X_test.shape[0]):\n",
    "    y_pred[i] = single_variate_normal_dist_decision(X_test[i], mu1=mu_active, mu0 = mu_idle, var0=var_idle, var1=var_active)\n",
    "    \n",
    "np.mean(y_pred == y_test)    "
   ]
  },
  {
   "cell_type": "code",
   "execution_count": 92,
   "metadata": {},
   "outputs": [
    {
     "name": "stdout",
     "output_type": "stream",
     "text": [
      "(115,) (115,) (115,)\n"
     ]
    },
    {
     "data": {
      "text/plain": [
       "0.9826086956521739"
      ]
     },
     "execution_count": 92,
     "metadata": {},
     "output_type": "execute_result"
    }
   ],
   "source": [
    "y_pred2=np.zeros_like(y_test)\n",
    "print(y_pred.shape, X_test.shape, y_test.shape)\n",
    "for i in range(X_test.shape[0]):\n",
    "    y_pred[i]=single_variate_normal_dist_decision(X_test[i], mu1=mu_active, mu0=mu_idle, var0=10*var_idle, var1=10*var_active)\n",
    "\n",
    "np.mean(y_pred==y_test)"
   ]
  },
  {
   "cell_type": "markdown",
   "metadata": {
    "slideshow": {
     "slide_type": "slide"
    }
   },
   "source": [
    "# Bayes' rule\n",
    "\n",
    "\n",
    "$$\n",
    "P_{Y|X}(y|x) = \\dfrac{P_{XY}(x,y)}{P_{X}(x)} = \\dfrac{P_{X|Y}(x|y)P_Y(y)}{\\sum_{y'}P_{X|Y}(x|y')P_Y(y')}.\n",
    "$$\n",
    "\n",
    "\n",
    "- Likelihood: $P_{X|Y}(x|y)$\n",
    "\n",
    "\n",
    "- Prior: $P_Y(y)$\n",
    "\n",
    "\n",
    "\n",
    "- Normalization/evidence: $P_{X}(x)$\n",
    "\n",
    "\n",
    "- Posterior: $P_{Y|X}(y|x)$\n",
    "\n",
    "\n",
    "\n",
    "\n"
   ]
  },
  {
   "cell_type": "markdown",
   "metadata": {
    "slideshow": {
     "slide_type": "slide"
    }
   },
   "source": [
    "# Bayesian Classifier\n",
    "\n",
    "- In the binary classifier what we really want to find is:\n",
    "\n",
    "$$p(y = 1 | x)$$\n",
    "$$p(y = 0 | x)$$\n",
    "\n",
    "\n",
    "- Computing these probabilities is usually very difficult, but using Bayes\n",
    "\n",
    "$$\n",
    "P(y = 1|x) = \\dfrac{P_{XY}(x,y)}{P_{X}(x)} = \\dfrac{P_{X|Y}(x|y)P_Y(y)}{\\sum_{y'}P_{X|Y}(x|y')P_Y(y')}.\n",
    "$$"
   ]
  },
  {
   "cell_type": "code",
   "execution_count": 93,
   "metadata": {
    "slideshow": {
     "slide_type": "slide"
    }
   },
   "outputs": [],
   "source": [
    "## optimization process: MLE fit to single variate gaussian \n",
    "##\n",
    "## !warning! this method is *still* suffering from data \"leakage\" \n",
    "## \n",
    "mu_active = np.mean(X_train[y_train == 1])\n",
    "var_active = np.var(X_train[y_train == 1])\n",
    "\n",
    "mu_idle = np.mean(X_train[y_train == 0])\n",
    "var_idle = np.var(X_train[y_train == 0])\n",
    "\n",
    "def single_variate_normal_dist_bayes_decision(x, mu0, mu1, var0, var1, pos_prob):\n",
    "    dec = (x - mu0)**2/(2*var0) - (x - mu1)**2/(2*(var1)) + .5*np.log(var0/var1) + np.log(pos_prob/(1-pos_prob))\n",
    "    if dec > 0:\n",
    "        return 1\n",
    "    else:\n",
    "        return 0    "
   ]
  },
  {
   "cell_type": "code",
   "execution_count": 95,
   "metadata": {
    "slideshow": {
     "slide_type": "slide"
    }
   },
   "outputs": [
    {
     "name": "stdout",
     "output_type": "stream",
     "text": [
      "(232,) 232\n"
     ]
    },
    {
     "data": {
      "text/plain": [
       "0.5862068965517241"
      ]
     },
     "execution_count": 95,
     "metadata": {},
     "output_type": "execute_result"
    }
   ],
   "source": [
    "num_pos_train = len(y_train[y_train==1])\n",
    "print(y_train.shape, len(y_train))\n",
    "pos_prob_train = num_pos_train/len(y_train) \n",
    "pos_prob_train"
   ]
  },
  {
   "cell_type": "code",
   "execution_count": 96,
   "metadata": {
    "slideshow": {
     "slide_type": "slide"
    }
   },
   "outputs": [
    {
     "data": {
      "text/plain": [
       "-15.198187476241628"
      ]
     },
     "execution_count": 96,
     "metadata": {},
     "output_type": "execute_result"
    },
    {
     "data": {
      "image/png": "[encoded data removed]",
      "text/plain": [
       "<matplotlib.figure.Figure at 0x272a72514e0>"
      ]
     },
     "metadata": {},
     "output_type": "display_data"
    }
   ],
   "source": [
    "x = np.linspace(-20, -8, num = 200)\n",
    "y = np.zeros_like(x)\n",
    "for i in range(x.shape[0]):\n",
    "    y[i] = single_variate_normal_dist_bayes_decision(x[i], mu1=mu_active, mu0 = mu_idle, \n",
    "                                                     var0=var_idle, var1=var_active, pos_prob = pos_prob_train)\n",
    "\n",
    "\n",
    "plt.plot(x, y)\n",
    "\n",
    ".5*(mu_active+mu_idle)"
   ]
  },
  {
   "cell_type": "code",
   "execution_count": 97,
   "metadata": {
    "slideshow": {
     "slide_type": "slide"
    }
   },
   "outputs": [
    {
     "data": {
      "text/plain": [
       "-15.198187476241628"
      ]
     },
     "execution_count": 97,
     "metadata": {},
     "output_type": "execute_result"
    },
    {
     "data": {
      "image/png": "[encoded data removed]",
      "text/plain": [
       "<matplotlib.figure.Figure at 0x272a726be10>"
      ]
     },
     "metadata": {},
     "output_type": "display_data"
    }
   ],
   "source": [
    "x = np.linspace(-20, -8, num = 200)\n",
    "y = np.zeros_like(x)\n",
    "for i in range(x.shape[0]):\n",
    "    y[i] = single_variate_normal_dist_bayes_decision(x[i], mu1=mu_active, mu0 = mu_idle, \n",
    "                                                     var0=var_idle, var1=var_active, pos_prob = .001*pos_prob_train)\n",
    "\n",
    "\n",
    "plt.plot(x, y)\n",
    "\n",
    ".5*(mu_active+mu_idle)"
   ]
  },
  {
   "cell_type": "code",
   "execution_count": 102,
   "metadata": {
    "slideshow": {
     "slide_type": "slide"
    }
   },
   "outputs": [
    {
     "data": {
      "text/plain": [
       "0.97391304347826091"
      ]
     },
     "execution_count": 102,
     "metadata": {},
     "output_type": "execute_result"
    }
   ],
   "source": [
    "y_pred = np.zeros_like(y_test)\n",
    "\n",
    "for i in range(X_test.shape[0]):\n",
    "    y_pred[i] = single_variate_normal_dist_bayes_decision(X_test[i], mu1=mu_active, mu0 = mu_idle, var0=var_idle, \n",
    "                                                          var1=var_active, pos_prob = pos_prob_train)\n",
    "    \n",
    "np.mean(y_pred == y_test)    "
   ]
  },
  {
   "cell_type": "markdown",
   "metadata": {
    "slideshow": {
     "slide_type": "slide"
    }
   },
   "source": [
    "# The multivariate Gaussian distribution\n",
    "\n",
    "<img src=\"./imgs/Lecture-1/MultivariateNormal.png\">\n",
    "\n",
    "$$\n",
    "f_{X_1,X_2,\\ldots,X_n}(x_1,x_2,\\ldots,x_n;\\mu, \\Sigma) = \\dfrac{1}{(2\\pi)^{n/2}|\\Sigma|^{1/2}}\\exp \\Bigg(-\\dfrac{1}{2}(x - \\mu)^T\\Sigma^{-1}(x - \\mu)\\Bigg).\n",
    "$$\n",
    "\n",
    "\n",
    "\n"
   ]
  },
  {
   "cell_type": "markdown",
   "metadata": {
    "slideshow": {
     "slide_type": "slide"
    }
   },
   "source": [
    "# Covariance\n",
    "\n",
    "$$\n",
    "\\begin{align*}\n",
    "Cov[X,Y] &= E[(X - E[X])(Y - E[Y])]\\\\\n",
    "&= E[XY - XE[Y] - YE[X] + E[X]E[Y]]\\\\\n",
    "&= E[XY] -E[X]E[Y] - E[Y]E[X] + E[X]E[Y]]\\\\\n",
    "&= E[XY] -E[X]E[Y].\n",
    "\\end{align*}\n",
    "$$\n",
    "\n",
    "- When $Cov[X,Y] = 0$, we say that $X$ and $Y$ are **uncorrelated**. \n",
    "- However, this is not the same thing as stating that $X$ and $Y$ are independent! \n",
    "- For example, if $X \\sim Uniform(-1,1)$ and $Y = X^2$, then one can show that $X$ and $Y$ are uncorrelated, even though they are not independent."
   ]
  },
  {
   "cell_type": "markdown",
   "metadata": {
    "slideshow": {
     "slide_type": "slide"
    }
   },
   "source": [
    "# Covariance matrix: \n",
    "\n",
    "For a given random vector $X: \\Omega \\rightarrow \\mathbb{R}^n$, its covariance matrix $\\Sigma$ is the $n\\times n$ square matrix whose entries are given by $\\Sigma_{ij} = Cov[X_i, X_j]$.\n",
    "\n",
    "\n",
    "From the definition of covariance, we have\n",
    "\n",
    "$$\n",
    "\\begin{align*}\n",
    "\\Sigma &= \\begin{bmatrix} Cov[X_1,X_1] & \\cdots & Cov[X_1,X_n]\\\\\n",
    "\\vdots & \\ddots & \\vdots\\\\\n",
    "Cov[X_n,X_1] & \\cdots & Cov[X_n,X_n] \\end{bmatrix}\\\\\n",
    "&= E[XX^T] - E[X]E[X]^T = \\ldots = E[(X - E[X])(X - E[X])^T].\n",
    "\\end{align*}\n",
    "$$\n",
    "\n",
    "where the matrix expectation is defined in the obvious way.\n",
    "\n",
    "The covariance matrix has a number of useful properties:\n",
    "\n",
    "\n",
    "- $\\Sigma \\succeq 0$; that is, $\\Sigma$ is positive semidefinite.\n",
    "- $\\Sigma = \\Sigma^T$; that is, $\\Sigma$ is symmetric.\n",
    "\n"
   ]
  },
  {
   "cell_type": "markdown",
   "metadata": {
    "slideshow": {
     "slide_type": "slide"
    }
   },
   "source": [
    "# Gausian Naive Bayes classifier\n",
    "\n",
    "- Computing the covariance matrix can be very expensive \n",
    "- The Naive Bayes classifier makes the assumption that all covariats are 0 - that is, all pairs of variables are uncorrelated \n",
    "- So we assume that all off -diagonal terms of the covariance matrix are 0 and only compute the diagonal terms: these are just the [variances]\n",
    "\n",
    "$$\n",
    "\\begin{align*}\n",
    "\\Sigma &= \\begin{bmatrix} \\sigma_{1}^{2} & \\cdots & 0\\\\\n",
    "\\vdots & \\ddots & \\vdots\\\\\n",
    "0 & \\cdots & \\sigma_{n}^{2} \\end{bmatrix}\\\\\n",
    "\\end{align*}\n",
    "$$\n",
    "\n",
    "\n",
    "$$\n",
    "f_{X_1,X_2,\\ldots,X_n}(x_1,x_2,\\ldots,x_n;\\mu, \\Sigma) = \\dfrac{1}{(2\\pi)^{n/2}|\\Sigma|^{1/2}}\\exp \\Bigg(-\\dfrac{1}{2}(x - \\mu)^T\\Sigma^{-1}(x - \\mu)\\Bigg).\n",
    "$$\n",
    "\n",
    "\n"
   ]
  },
  {
   "cell_type": "code",
   "execution_count": 112,
   "metadata": {
    "slideshow": {
     "slide_type": "slide"
    }
   },
   "outputs": [
    {
     "name": "stdout",
     "output_type": "stream",
     "text": [
      "[[-13.63979515]\n",
      " [-18.7517452 ]\n",
      " [-10.81916663]\n",
      " [-11.84503365]\n",
      " [-18.88877652]\n",
      " [ -9.8182217 ]\n",
      " [-11.02693976]\n",
      " [-19.01310467]\n",
      " [-19.04519091]] [-13.63979515 -18.7517452  -10.81916663 -11.84503365 -18.88877652\n",
      "  -9.8182217  -11.02693976 -19.01310467 -19.04519091]\n",
      "(232,) (232,)\n",
      "(200, 1)\n"
     ]
    },
    {
     "data": {
      "text/plain": [
       "[<matplotlib.lines.Line2D at 0x272a60532b0>]"
      ]
     },
     "execution_count": 112,
     "metadata": {},
     "output_type": "execute_result"
    },
    {
     "data": {
      "image/png": "[encoded data removed]",
      "text/plain": [
       "<matplotlib.figure.Figure at 0x272a71d5b00>"
      ]
     },
     "metadata": {},
     "output_type": "display_data"
    }
   ],
   "source": [
    "from sklearn.naive_bayes import GaussianNB\n",
    "\n",
    "gnb = GaussianNB()\n",
    "\n",
    "# The newaxis object can be used in all slicing operations \n",
    "# to create an axis of length one. newaxis is an alias for ‘None’\n",
    "\n",
    "gnb.fit(X_train[:,np.newaxis], y_train) #this is what you fit here to the gnb object and then use this model to test on the test set \n",
    "print(X_train[:, np.newaxis][1:10], X_train[:][1:10])\n",
    "print(X_train.shape, y_train.shape)\n",
    "x = np.linspace(-20, -8, num = 200)\n",
    "x = x[:,np.newaxis]\n",
    "y = np.zeros_like(x)\n",
    "print(x.shape)\n",
    "for i in range(x.shape[0]):\n",
    "    y[i] = gnb.predict(x[i,np.newaxis])\n",
    "\n",
    "\n",
    "plt.plot(x, y)\n",
    "\n",
    "#this should look identical to what we had before!"
   ]
  },
  {
   "cell_type": "code",
   "execution_count": 113,
   "metadata": {
    "slideshow": {
     "slide_type": "slide"
    }
   },
   "outputs": [
    {
     "data": {
      "text/plain": [
       "array([ 0.4137931,  0.5862069])"
      ]
     },
     "execution_count": 113,
     "metadata": {},
     "output_type": "execute_result"
    }
   ],
   "source": [
    "gnb.class_prior_"
   ]
  },
  {
   "cell_type": "code",
   "execution_count": 116,
   "metadata": {
    "scrolled": true,
    "slideshow": {
     "slide_type": "slide"
    }
   },
   "outputs": [
    {
     "name": "stdout",
     "output_type": "stream",
     "text": [
      "(232, 4)\n"
     ]
    }
   ],
   "source": [
    "X = np.array(data_projected.iloc[:,:4])\n",
    "y = np.zeros(X.shape[0])\n",
    "y[data_projected.state == \"active\"] = 1\n",
    "\n",
    "X_train, X_test, y_train, y_test = train_test_split(X, y, test_size=0.33, random_state=1)\n",
    "print(X_train.shape)"
   ]
  },
  {
   "cell_type": "code",
   "execution_count": 117,
   "metadata": {
    "slideshow": {
     "slide_type": "slide"
    }
   },
   "outputs": [
    {
     "data": {
      "text/plain": [
       "0.99130434782608701"
      ]
     },
     "execution_count": 117,
     "metadata": {},
     "output_type": "execute_result"
    }
   ],
   "source": [
    "gnb = GaussianNB()\n",
    "\n",
    "gnb.fit(X_train, y_train)\n",
    "\n",
    "y_pred = gnb.predict(X_test)\n",
    "\n",
    "np.mean(y_test == y_pred)"
   ]
  },
  {
   "cell_type": "markdown",
   "metadata": {},
   "source": [
    "Why does Gaussian NB have better prediction ? "
   ]
  },
  {
   "cell_type": "markdown",
   "metadata": {
    "slideshow": {
     "slide_type": "slide"
    }
   },
   "source": [
    "# Logistic regression\n",
    "\n",
    "\n",
    "- Let's revisit the ratio test:\n",
    "\n",
    "$$ \\text{log} \\frac{P(y = 1 | x)}{P(y = 0 | x)} = \\eta$$\n",
    "\n",
    "- As before, if $\\eta > 0$, then we have class 1. Otherwise class 0 \n",
    "\n",
    "\n",
    "- We assumed so far that the probability model is from a Gaussian. But what we *directly* model the ratio test itself? \n",
    "\n",
    "\n",
    "- In logistic regression we assume that the log-likelihood ratio has a *linear* relationship to the features $x$. So if $x \\in \\mathbb{R}$\n",
    "\n",
    "$$ \\eta = w_{0} + w_{1}x$$\n",
    "\n",
    "- In logistic regression, we solve an optimization problem to find the best $w_0$ and $w_1$\n"
   ]
  },
  {
   "cell_type": "code",
   "execution_count": 118,
   "metadata": {
    "slideshow": {
     "slide_type": "slide"
    }
   },
   "outputs": [
    {
     "data": {
      "text/plain": [
       "1.0"
      ]
     },
     "execution_count": 118,
     "metadata": {},
     "output_type": "execute_result"
    }
   ],
   "source": [
    "## Logistic Regression\n",
    "\n",
    "from sklearn.linear_model import LogisticRegression\n",
    "\n",
    "LR = LogisticRegression()\n",
    "LR.fit(X_train, y_train)\n",
    "\n",
    "y_pred = LR.predict(X_test)\n",
    "\n",
    "np.mean(y_test == y_pred)"
   ]
  },
  {
   "cell_type": "markdown",
   "metadata": {
    "slideshow": {
     "slide_type": "slide"
    }
   },
   "source": [
    "# Cheating and issues with our methods!\n",
    "\n",
    "- Data leakage when computing the SVD on the *entire* data set: before splitting the data into train and test sets!\n",
    "\n",
    "\n",
    "- Is randomly selecting examples a good way of creating a traing set for our problem here?\n",
    "\n",
    "\n",
    "- Our model only works for *one* subject. What about other subjects? How transferrable is our model on other subjects?"
   ]
  },
  {
   "cell_type": "code",
   "execution_count": 119,
   "metadata": {
    "slideshow": {
     "slide_type": "slide"
    }
   },
   "outputs": [
    {
     "data": {
      "text/plain": [
       "0.97391304347826091"
      ]
     },
     "execution_count": 119,
     "metadata": {},
     "output_type": "execute_result"
    }
   ],
   "source": [
    "from sklearn.decomposition import TruncatedSVD\n",
    "from sklearn.pipeline import Pipeline\n",
    "\n",
    "\n",
    "svd_gnb = Pipeline([('svd', TruncatedSVD(n_components = 1)), \n",
    "                   ('gnb', GaussianNB())])\n",
    "\n",
    "X = data ## not using data_projected like before!\n",
    "y = np.zeros(X.shape[0])\n",
    "y[data_projected.state == \"active\"] = 1\n",
    "\n",
    "X_train, X_test, y_train, y_test = train_test_split(X, y, test_size=0.33, random_state=11)\n",
    "\n",
    "svd_gnb.fit(X_train, y_train);\n",
    "\n",
    "y_pred = svd_gnb.predict(X_test)\n",
    "\n",
    "np.mean(y_test == y_pred)"
   ]
  },
  {
   "cell_type": "markdown",
   "metadata": {},
   "source": [
    "What is the purpose of using two models here ?"
   ]
  },
  {
   "cell_type": "markdown",
   "metadata": {
    "slideshow": {
     "slide_type": "slide"
    }
   },
   "source": [
    "# Evaluating binary classifiers: accuracy\n",
    "\n",
    "- Accuracy: the percentage of correct classifications\n",
    "    - Intuitively very easy to understand\n",
    "\n",
    "\n",
    "- Can be misleading if there is class imbalance:\n",
    "    - Example: less than 1% of credit card transactions are fraud. If you call all transactions as not fraud (that is, setting the threshold to 1 in the previous slide), then the accuracy is 99%!\n"
   ]
  },
  {
   "cell_type": "markdown",
   "metadata": {
    "slideshow": {
     "slide_type": "slide"
    }
   },
   "source": [
    "# Binary classifiers terminology \n",
    "\n",
    "\n",
    "- True positives: positive classifications that are really positives\n",
    "- False positives: positive classifications that are actually negatives\n",
    "- True negative: negative classifications that are really negatives\n",
    "- False negative: negative classifications that are actually positives\n",
    "\n",
    "<img src=\"./imgs/Lecture-1/tpfp.png\">"
   ]
  },
  {
   "cell_type": "markdown",
   "metadata": {
    "slideshow": {
     "slide_type": "slide"
    }
   },
   "source": [
    "# Precision and recall\n",
    "\n",
    "<center><img src=\"./imgs/Lecture-1/Precisionrecall.png\">\n",
    "</center>    "
   ]
  },
  {
   "cell_type": "markdown",
   "metadata": {
    "slideshow": {
     "slide_type": "slide"
    }
   },
   "source": [
    "# Precision and recall\n",
    "- Context: selecting a subset of credit transactions that might be fraudulent \n",
    "- **Precision**: of the transactions that I am investigating, how many are actually fraud and therefore won’t waste my time? \n",
    "\n",
    "- **Recall**: of the transactions that I am investigating, what fraud cases am I missing from by ignoring the remainder?\n",
    "\n",
    "<center>\n",
    "\n",
    "<img src=\"./imgs/Lecture-1/Precisionrecall-2.png\">\n",
    "</center>\n",
    "- High precision: saves you time from having to deal with lots of False Positives\n",
    "\n",
    "- High recall: ensures that you do not miss any instances of fraud\n"
   ]
  },
  {
   "cell_type": "markdown",
   "metadata": {
    "slideshow": {
     "slide_type": "slide"
    }
   },
   "source": [
    "# Precision and recall combined\n",
    "\n",
    "\n",
    "- Harmonin mean or **F1 score**: \n",
    "$$ F1 = 2\\frac{\\text{Precision}\\times\\text{Recall}}{\\text{Precision}+ \\text{Recall}}$$\n",
    "- Simple arithmetic average can be misleading.\n",
    "- It is easy to have a high recall (.99) and poor precision (.01) (this is usually not a good classifier). The simple average of this is 0.5, but the F1 score is more 0.0198"
   ]
  },
  {
   "cell_type": "markdown",
   "metadata": {
    "slideshow": {
     "slide_type": "slide"
    }
   },
   "source": [
    "# Precision-recall curve\n",
    "\n",
    "- Measure how precision varies as recall is improves\n",
    "\n",
    "<img src=\"./imgs/Lecture-1/prec-recall.png\">\n",
    "\n",
    "- **Average precision**: the area under the precision-recall curve"
   ]
  },
  {
   "cell_type": "code",
   "execution_count": 120,
   "metadata": {
    "slideshow": {
     "slide_type": "slide"
    }
   },
   "outputs": [
    {
     "data": {
      "image/png": "[encoded data removed]",
      "text/plain": [
       "<matplotlib.figure.Figure at 0x272a80800b8>"
      ]
     },
     "metadata": {},
     "output_type": "display_data"
    }
   ],
   "source": [
    "## plotting precision recall curves wrapper\n",
    "from sklearn.metrics import precision_recall_curve\n",
    "\n",
    "def plot_precision_recall_curve(y_test, y_score, title = \"\"):\n",
    "    precision, recall, _ = precision_recall_curve(y_test, y_score)\n",
    "\n",
    "    plt.step(recall, precision, color='b', alpha=0.2,\n",
    "             where='post')\n",
    "    plt.fill_between(recall, precision, step='post', alpha=0.2,\n",
    "                     color='b')\n",
    "\n",
    "    plt.xlabel('Recall')\n",
    "    plt.ylabel('Precision')\n",
    "    plt.ylim([0.0, 1.05])\n",
    "    plt.xlim([0.0, 1.0])\n",
    "    plt.title(title)\n",
    "    \n",
    "plot_precision_recall_curve(y_test, svd_gnb.predict_proba(X_test)[:,1], \"PR\")    "
   ]
  },
  {
   "cell_type": "markdown",
   "metadata": {
    "slideshow": {
     "slide_type": "slide"
    }
   },
   "source": [
    "# Receiver Operating Characteristic (ROC) curve\n",
    "\n",
    "- True Positive Rate (aka Recall): True Positives over all positives $\\frac{TP}{P}= \\frac{FP}{TP + FN}$ \n",
    "- False Positive Rate: False Positives over all negative $\\frac{FP}{N}= \\frac{FP}{FP + N}$ \n",
    "\n",
    "<img src=\"./imgs/Lecture-1/random-auc.png\">\n",
    "\n",
    "- Area Under the ROC curve is referred to as AUC\n",
    "- Random classifier always has AUC = 0.5"
   ]
  },
  {
   "cell_type": "code",
   "execution_count": 123,
   "metadata": {
    "slideshow": {
     "slide_type": "slide"
    }
   },
   "outputs": [
    {
     "data": {
      "text/plain": [
       "Text(0.5,1,'ROC curve')"
      ]
     },
     "execution_count": 123,
     "metadata": {},
     "output_type": "execute_result"
    },
    {
     "data": {
      "image/png": "[encoded data removed]",
      "text/plain": [
       "<matplotlib.figure.Figure at 0x272a96ffb70>"
      ]
     },
     "metadata": {},
     "output_type": "display_data"
    }
   ],
   "source": [
    "from sklearn.metrics import roc_auc_score, average_precision_score, roc_curve\n",
    "\n",
    "svd_gnb.predict_proba(X_test)[:,1]\n",
    "fpr, tpr, thresholds = roc_curve(y_test, svd_gnb.predict_proba(X_test)[:,1], pos_label=1)\n",
    "\n",
    "plt.plot(fpr, tpr)\n",
    "plt.plot([0,1], [0,1])\n",
    "plt.legend([\"Logistic classifier\", \"Random\"], loc = \"lower right\")\n",
    "plt.xlabel('False Positive Rate')\n",
    "plt.ylabel('True Positive Rate')\n",
    "plt.ylim([0.0, 1.05])\n",
    "plt.xlim([0.0, 1.0])\n",
    "plt.title(\"ROC curve\")"
   ]
  },
  {
   "cell_type": "code",
   "execution_count": null,
   "metadata": {},
   "outputs": [],
   "source": []
  }
 ],
 "metadata": {
  "celltoolbar": "Slideshow",
  "kernelspec": {
   "display_name": "Python 3",
   "language": "python",
   "name": "python3"
  },
  "language_info": {
   "codemirror_mode": {
    "name": "ipython",
    "version": 3
   },
   "file_extension": ".py",
   "mimetype": "text/x-python",
   "name": "python",
   "nbconvert_exporter": "python",
   "pygments_lexer": "ipython3",
   "version": "3.6.3"
  }
 },
 "nbformat": 4,
 "nbformat_minor": 2
}
